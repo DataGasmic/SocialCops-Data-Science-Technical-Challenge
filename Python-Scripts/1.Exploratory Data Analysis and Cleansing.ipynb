{
 "cells": [
  {
   "cell_type": "markdown",
   "metadata": {},
   "source": [
    "# This Analysis is to understand the length and breadth of  given Data on a quantitative as well as qualitative standard\n",
    "-  We find the number of rows and columns in both the datasets\n",
    "-  We then try to preprocess the data so that only the important and relevant columns exist to save computation and space\n",
    "-  We find the number of Nan values, i.e missing data to understand the quality of the datasets\n",
    "-  We try to find if the data has some abnormlaity or anomaly in values\n",
    "-  Finallly, we get to the point where we understand the data and move forward with Outlier Detection and Removal"
   ]
  },
  {
   "cell_type": "code",
   "execution_count": 40,
   "metadata": {},
   "outputs": [],
   "source": [
    "import pandas as pd\n",
    "import matplotlib.pyplot as plt\n",
    "import seaborn as sns"
   ]
  },
  {
   "cell_type": "code",
   "execution_count": 3,
   "metadata": {},
   "outputs": [],
   "source": [
    "mandi_data=pd.read_csv(\"Monthly_data_cmo.csv\")\n",
    "msp_data=pd.read_csv(\"CMO_MSP_Mandi.csv\")"
   ]
  },
  {
   "cell_type": "markdown",
   "metadata": {},
   "source": [
    "# Let's look at the big Mandi Dataset, which gives monthly Data and try to hear what it says"
   ]
  },
  {
   "cell_type": "code",
   "execution_count": 4,
   "metadata": {},
   "outputs": [
    {
     "data": {
      "text/html": [
       "<div>\n",
       "<style scoped>\n",
       "    .dataframe tbody tr th:only-of-type {\n",
       "        vertical-align: middle;\n",
       "    }\n",
       "\n",
       "    .dataframe tbody tr th {\n",
       "        vertical-align: top;\n",
       "    }\n",
       "\n",
       "    .dataframe thead th {\n",
       "        text-align: right;\n",
       "    }\n",
       "</style>\n",
       "<table border=\"1\" class=\"dataframe\">\n",
       "  <thead>\n",
       "    <tr style=\"text-align: right;\">\n",
       "      <th></th>\n",
       "      <th>APMC</th>\n",
       "      <th>Commodity</th>\n",
       "      <th>Year</th>\n",
       "      <th>Month</th>\n",
       "      <th>arrivals_in_qtl</th>\n",
       "      <th>min_price</th>\n",
       "      <th>max_price</th>\n",
       "      <th>modal_price</th>\n",
       "      <th>date</th>\n",
       "      <th>district_name</th>\n",
       "      <th>state_name</th>\n",
       "    </tr>\n",
       "  </thead>\n",
       "  <tbody>\n",
       "    <tr>\n",
       "      <th>0</th>\n",
       "      <td>Ahmednagar</td>\n",
       "      <td>Bajri</td>\n",
       "      <td>2015</td>\n",
       "      <td>April</td>\n",
       "      <td>79</td>\n",
       "      <td>1406</td>\n",
       "      <td>1538</td>\n",
       "      <td>1463</td>\n",
       "      <td>2015-04</td>\n",
       "      <td>Ahmadnagar</td>\n",
       "      <td>Maharashtra</td>\n",
       "    </tr>\n",
       "    <tr>\n",
       "      <th>1</th>\n",
       "      <td>Ahmednagar</td>\n",
       "      <td>Bajri</td>\n",
       "      <td>2016</td>\n",
       "      <td>April</td>\n",
       "      <td>106</td>\n",
       "      <td>1788</td>\n",
       "      <td>1925</td>\n",
       "      <td>1875</td>\n",
       "      <td>2016-04</td>\n",
       "      <td>Ahmadnagar</td>\n",
       "      <td>Maharashtra</td>\n",
       "    </tr>\n",
       "    <tr>\n",
       "      <th>2</th>\n",
       "      <td>Ahmednagar</td>\n",
       "      <td>Wheat(Husked)</td>\n",
       "      <td>2015</td>\n",
       "      <td>April</td>\n",
       "      <td>1253</td>\n",
       "      <td>1572</td>\n",
       "      <td>1890</td>\n",
       "      <td>1731</td>\n",
       "      <td>2015-04</td>\n",
       "      <td>Ahmadnagar</td>\n",
       "      <td>Maharashtra</td>\n",
       "    </tr>\n",
       "    <tr>\n",
       "      <th>3</th>\n",
       "      <td>Ahmednagar</td>\n",
       "      <td>Wheat(Husked)</td>\n",
       "      <td>2016</td>\n",
       "      <td>April</td>\n",
       "      <td>387</td>\n",
       "      <td>1750</td>\n",
       "      <td>2220</td>\n",
       "      <td>1999</td>\n",
       "      <td>2016-04</td>\n",
       "      <td>Ahmadnagar</td>\n",
       "      <td>Maharashtra</td>\n",
       "    </tr>\n",
       "    <tr>\n",
       "      <th>4</th>\n",
       "      <td>Ahmednagar</td>\n",
       "      <td>Sorgum(Jawar)</td>\n",
       "      <td>2015</td>\n",
       "      <td>April</td>\n",
       "      <td>3825</td>\n",
       "      <td>1600</td>\n",
       "      <td>2200</td>\n",
       "      <td>1900</td>\n",
       "      <td>2015-04</td>\n",
       "      <td>Ahmadnagar</td>\n",
       "      <td>Maharashtra</td>\n",
       "    </tr>\n",
       "  </tbody>\n",
       "</table>\n",
       "</div>"
      ],
      "text/plain": [
       "         APMC      Commodity  Year  Month  arrivals_in_qtl  min_price  \\\n",
       "0  Ahmednagar          Bajri  2015  April               79       1406   \n",
       "1  Ahmednagar          Bajri  2016  April              106       1788   \n",
       "2  Ahmednagar  Wheat(Husked)  2015  April             1253       1572   \n",
       "3  Ahmednagar  Wheat(Husked)  2016  April              387       1750   \n",
       "4  Ahmednagar  Sorgum(Jawar)  2015  April             3825       1600   \n",
       "\n",
       "   max_price  modal_price     date district_name   state_name  \n",
       "0       1538         1463  2015-04    Ahmadnagar  Maharashtra  \n",
       "1       1925         1875  2016-04    Ahmadnagar  Maharashtra  \n",
       "2       1890         1731  2015-04    Ahmadnagar  Maharashtra  \n",
       "3       2220         1999  2016-04    Ahmadnagar  Maharashtra  \n",
       "4       2200         1900  2015-04    Ahmadnagar  Maharashtra  "
      ]
     },
     "execution_count": 4,
     "metadata": {},
     "output_type": "execute_result"
    }
   ],
   "source": [
    "mandi_data.head()"
   ]
  },
  {
   "cell_type": "code",
   "execution_count": 5,
   "metadata": {},
   "outputs": [
    {
     "name": "stdout",
     "output_type": "stream",
     "text": [
      "<class 'pandas.core.frame.DataFrame'>\n",
      "RangeIndex: 62429 entries, 0 to 62428\n",
      "Data columns (total 11 columns):\n",
      "APMC               62429 non-null object\n",
      "Commodity          62429 non-null object\n",
      "Year               62429 non-null int64\n",
      "Month              62429 non-null object\n",
      "arrivals_in_qtl    62429 non-null int64\n",
      "min_price          62429 non-null int64\n",
      "max_price          62429 non-null int64\n",
      "modal_price        62429 non-null int64\n",
      "date               62429 non-null object\n",
      "district_name      62429 non-null object\n",
      "state_name         62429 non-null object\n",
      "dtypes: int64(5), object(6)\n",
      "memory usage: 5.2+ MB\n"
     ]
    }
   ],
   "source": [
    "mandi_data.info()"
   ]
  },
  {
   "cell_type": "code",
   "execution_count": 6,
   "metadata": {},
   "outputs": [
    {
     "data": {
      "text/html": [
       "<div>\n",
       "<style scoped>\n",
       "    .dataframe tbody tr th:only-of-type {\n",
       "        vertical-align: middle;\n",
       "    }\n",
       "\n",
       "    .dataframe tbody tr th {\n",
       "        vertical-align: top;\n",
       "    }\n",
       "\n",
       "    .dataframe thead th {\n",
       "        text-align: right;\n",
       "    }\n",
       "</style>\n",
       "<table border=\"1\" class=\"dataframe\">\n",
       "  <thead>\n",
       "    <tr style=\"text-align: right;\">\n",
       "      <th></th>\n",
       "      <th>Year</th>\n",
       "      <th>arrivals_in_qtl</th>\n",
       "      <th>min_price</th>\n",
       "      <th>max_price</th>\n",
       "      <th>modal_price</th>\n",
       "    </tr>\n",
       "  </thead>\n",
       "  <tbody>\n",
       "    <tr>\n",
       "      <th>count</th>\n",
       "      <td>62429.000000</td>\n",
       "      <td>6.242900e+04</td>\n",
       "      <td>6.242900e+04</td>\n",
       "      <td>6.242900e+04</td>\n",
       "      <td>62429.000000</td>\n",
       "    </tr>\n",
       "    <tr>\n",
       "      <th>mean</th>\n",
       "      <td>2015.337503</td>\n",
       "      <td>6.043088e+03</td>\n",
       "      <td>2.945228e+03</td>\n",
       "      <td>3.688814e+03</td>\n",
       "      <td>3296.003989</td>\n",
       "    </tr>\n",
       "    <tr>\n",
       "      <th>std</th>\n",
       "      <td>0.690451</td>\n",
       "      <td>3.470331e+04</td>\n",
       "      <td>1.318396e+04</td>\n",
       "      <td>7.662962e+03</td>\n",
       "      <td>3607.792534</td>\n",
       "    </tr>\n",
       "    <tr>\n",
       "      <th>min</th>\n",
       "      <td>2014.000000</td>\n",
       "      <td>1.000000e+00</td>\n",
       "      <td>0.000000e+00</td>\n",
       "      <td>0.000000e+00</td>\n",
       "      <td>0.000000</td>\n",
       "    </tr>\n",
       "    <tr>\n",
       "      <th>25%</th>\n",
       "      <td>2015.000000</td>\n",
       "      <td>3.800000e+01</td>\n",
       "      <td>1.250000e+03</td>\n",
       "      <td>1.600000e+03</td>\n",
       "      <td>1450.000000</td>\n",
       "    </tr>\n",
       "    <tr>\n",
       "      <th>50%</th>\n",
       "      <td>2015.000000</td>\n",
       "      <td>2.110000e+02</td>\n",
       "      <td>1.976000e+03</td>\n",
       "      <td>2.797000e+03</td>\n",
       "      <td>2425.000000</td>\n",
       "    </tr>\n",
       "    <tr>\n",
       "      <th>75%</th>\n",
       "      <td>2016.000000</td>\n",
       "      <td>1.364000e+03</td>\n",
       "      <td>3.900000e+03</td>\n",
       "      <td>4.647000e+03</td>\n",
       "      <td>4257.000000</td>\n",
       "    </tr>\n",
       "    <tr>\n",
       "      <th>max</th>\n",
       "      <td>2016.000000</td>\n",
       "      <td>1.450254e+06</td>\n",
       "      <td>3.153038e+06</td>\n",
       "      <td>1.600090e+06</td>\n",
       "      <td>142344.000000</td>\n",
       "    </tr>\n",
       "  </tbody>\n",
       "</table>\n",
       "</div>"
      ],
      "text/plain": [
       "               Year  arrivals_in_qtl     min_price     max_price  \\\n",
       "count  62429.000000     6.242900e+04  6.242900e+04  6.242900e+04   \n",
       "mean    2015.337503     6.043088e+03  2.945228e+03  3.688814e+03   \n",
       "std        0.690451     3.470331e+04  1.318396e+04  7.662962e+03   \n",
       "min     2014.000000     1.000000e+00  0.000000e+00  0.000000e+00   \n",
       "25%     2015.000000     3.800000e+01  1.250000e+03  1.600000e+03   \n",
       "50%     2015.000000     2.110000e+02  1.976000e+03  2.797000e+03   \n",
       "75%     2016.000000     1.364000e+03  3.900000e+03  4.647000e+03   \n",
       "max     2016.000000     1.450254e+06  3.153038e+06  1.600090e+06   \n",
       "\n",
       "         modal_price  \n",
       "count   62429.000000  \n",
       "mean     3296.003989  \n",
       "std      3607.792534  \n",
       "min         0.000000  \n",
       "25%      1450.000000  \n",
       "50%      2425.000000  \n",
       "75%      4257.000000  \n",
       "max    142344.000000  "
      ]
     },
     "execution_count": 6,
     "metadata": {},
     "output_type": "execute_result"
    }
   ],
   "source": [
    "mandi_data.describe()"
   ]
  },
  {
   "cell_type": "markdown",
   "metadata": {},
   "source": [
    "# Now, we observe the following\n",
    "-  We only have data for the state of Maharashtra, so State column is evidently, of no importance to our analysis\n",
    "-  Similarly, district name, but it may be useful while making decisions, so we keep it\n",
    "-  We have three columns, date, year and month, which are not useful together, so we drop any one(or two)\n",
    "-  We see that, date column is in object data type format, hence we convert it to  date_time\n",
    "-  We see that we have no NaN values in this dataset, assuming only available data has been added \n",
    "-  Not surprising, max_price and min_price and modal_price both have '0' values, FREE, thus maybe outliers or wrong data \n",
    "-  Next up, we see that we only have 3 year data here (2014 - min, 2016- max)"
   ]
  },
  {
   "cell_type": "markdown",
   "metadata": {},
   "source": [
    "# Let's look at the MSP_Data , government data that gives Minimum Support Price based on the Commodities"
   ]
  },
  {
   "cell_type": "code",
   "execution_count": 8,
   "metadata": {},
   "outputs": [
    {
     "data": {
      "text/html": [
       "<div>\n",
       "<style scoped>\n",
       "    .dataframe tbody tr th:only-of-type {\n",
       "        vertical-align: middle;\n",
       "    }\n",
       "\n",
       "    .dataframe tbody tr th {\n",
       "        vertical-align: top;\n",
       "    }\n",
       "\n",
       "    .dataframe thead th {\n",
       "        text-align: right;\n",
       "    }\n",
       "</style>\n",
       "<table border=\"1\" class=\"dataframe\">\n",
       "  <thead>\n",
       "    <tr style=\"text-align: right;\">\n",
       "      <th></th>\n",
       "      <th>commodity</th>\n",
       "      <th>year</th>\n",
       "      <th>Type</th>\n",
       "      <th>msprice</th>\n",
       "      <th>msp_filter</th>\n",
       "    </tr>\n",
       "  </thead>\n",
       "  <tbody>\n",
       "    <tr>\n",
       "      <th>0</th>\n",
       "      <td>PADDY-UNHUSKED</td>\n",
       "      <td>2012</td>\n",
       "      <td>Kharif Crops</td>\n",
       "      <td>1250.0</td>\n",
       "      <td>1</td>\n",
       "    </tr>\n",
       "    <tr>\n",
       "      <th>1</th>\n",
       "      <td>RICE(PADDY-HUS)</td>\n",
       "      <td>2012</td>\n",
       "      <td>Kharif Crops</td>\n",
       "      <td>1280.0</td>\n",
       "      <td>1</td>\n",
       "    </tr>\n",
       "    <tr>\n",
       "      <th>2</th>\n",
       "      <td>Jowar_Hybrid</td>\n",
       "      <td>2012</td>\n",
       "      <td>Kharif Crops</td>\n",
       "      <td>1500.0</td>\n",
       "      <td>1</td>\n",
       "    </tr>\n",
       "    <tr>\n",
       "      <th>3</th>\n",
       "      <td>SORGUM(JAWAR)</td>\n",
       "      <td>2012</td>\n",
       "      <td>Kharif Crops</td>\n",
       "      <td>1520.0</td>\n",
       "      <td>1</td>\n",
       "    </tr>\n",
       "    <tr>\n",
       "      <th>4</th>\n",
       "      <td>BAJRI</td>\n",
       "      <td>2012</td>\n",
       "      <td>Kharif Crops</td>\n",
       "      <td>1175.0</td>\n",
       "      <td>1</td>\n",
       "    </tr>\n",
       "  </tbody>\n",
       "</table>\n",
       "</div>"
      ],
      "text/plain": [
       "         commodity  year          Type  msprice  msp_filter\n",
       "0   PADDY-UNHUSKED  2012  Kharif Crops   1250.0           1\n",
       "1  RICE(PADDY-HUS)  2012  Kharif Crops   1280.0           1\n",
       "2     Jowar_Hybrid  2012  Kharif Crops   1500.0           1\n",
       "3    SORGUM(JAWAR)  2012  Kharif Crops   1520.0           1\n",
       "4            BAJRI  2012  Kharif Crops   1175.0           1"
      ]
     },
     "execution_count": 8,
     "metadata": {},
     "output_type": "execute_result"
    }
   ],
   "source": [
    "msp_data.head()"
   ]
  },
  {
   "cell_type": "code",
   "execution_count": 9,
   "metadata": {},
   "outputs": [
    {
     "name": "stdout",
     "output_type": "stream",
     "text": [
      "<class 'pandas.core.frame.DataFrame'>\n",
      "RangeIndex: 155 entries, 0 to 154\n",
      "Data columns (total 5 columns):\n",
      "commodity     155 non-null object\n",
      "year          155 non-null int64\n",
      "Type          155 non-null object\n",
      "msprice       145 non-null float64\n",
      "msp_filter    155 non-null int64\n",
      "dtypes: float64(1), int64(2), object(2)\n",
      "memory usage: 6.1+ KB\n"
     ]
    }
   ],
   "source": [
    "msp_data.info()"
   ]
  },
  {
   "cell_type": "code",
   "execution_count": 10,
   "metadata": {},
   "outputs": [
    {
     "data": {
      "text/html": [
       "<div>\n",
       "<style scoped>\n",
       "    .dataframe tbody tr th:only-of-type {\n",
       "        vertical-align: middle;\n",
       "    }\n",
       "\n",
       "    .dataframe tbody tr th {\n",
       "        vertical-align: top;\n",
       "    }\n",
       "\n",
       "    .dataframe thead th {\n",
       "        text-align: right;\n",
       "    }\n",
       "</style>\n",
       "<table border=\"1\" class=\"dataframe\">\n",
       "  <thead>\n",
       "    <tr style=\"text-align: right;\">\n",
       "      <th></th>\n",
       "      <th>year</th>\n",
       "      <th>msprice</th>\n",
       "      <th>msp_filter</th>\n",
       "    </tr>\n",
       "  </thead>\n",
       "  <tbody>\n",
       "    <tr>\n",
       "      <th>count</th>\n",
       "      <td>155.000000</td>\n",
       "      <td>145.000000</td>\n",
       "      <td>155.0</td>\n",
       "    </tr>\n",
       "    <tr>\n",
       "      <th>mean</th>\n",
       "      <td>2014.000000</td>\n",
       "      <td>2822.448276</td>\n",
       "      <td>1.0</td>\n",
       "    </tr>\n",
       "    <tr>\n",
       "      <th>std</th>\n",
       "      <td>1.418798</td>\n",
       "      <td>1441.725928</td>\n",
       "      <td>0.0</td>\n",
       "    </tr>\n",
       "    <tr>\n",
       "      <th>min</th>\n",
       "      <td>2012.000000</td>\n",
       "      <td>170.000000</td>\n",
       "      <td>1.0</td>\n",
       "    </tr>\n",
       "    <tr>\n",
       "      <th>25%</th>\n",
       "      <td>2013.000000</td>\n",
       "      <td>1470.000000</td>\n",
       "      <td>1.0</td>\n",
       "    </tr>\n",
       "    <tr>\n",
       "      <th>50%</th>\n",
       "      <td>2014.000000</td>\n",
       "      <td>2970.000000</td>\n",
       "      <td>1.0</td>\n",
       "    </tr>\n",
       "    <tr>\n",
       "      <th>75%</th>\n",
       "      <td>2015.000000</td>\n",
       "      <td>4000.000000</td>\n",
       "      <td>1.0</td>\n",
       "    </tr>\n",
       "    <tr>\n",
       "      <th>max</th>\n",
       "      <td>2016.000000</td>\n",
       "      <td>6240.000000</td>\n",
       "      <td>1.0</td>\n",
       "    </tr>\n",
       "  </tbody>\n",
       "</table>\n",
       "</div>"
      ],
      "text/plain": [
       "              year      msprice  msp_filter\n",
       "count   155.000000   145.000000       155.0\n",
       "mean   2014.000000  2822.448276         1.0\n",
       "std       1.418798  1441.725928         0.0\n",
       "min    2012.000000   170.000000         1.0\n",
       "25%    2013.000000  1470.000000         1.0\n",
       "50%    2014.000000  2970.000000         1.0\n",
       "75%    2015.000000  4000.000000         1.0\n",
       "max    2016.000000  6240.000000         1.0"
      ]
     },
     "execution_count": 10,
     "metadata": {},
     "output_type": "execute_result"
    }
   ],
   "source": [
    "msp_data.describe()"
   ]
  },
  {
   "cell_type": "markdown",
   "metadata": {},
   "source": [
    "# Observations-\n",
    "-  'commodity' column here has a small c, thus may create problems while merging or joining data\n",
    "-  All the commodities are in capital here, thus we need to  change this in both datasets to create common ground for analysis\n",
    "-  Most importantly, 'msprice' has 10 missing values,evident by (145) where total length =155, big issue\n",
    "-  We have government data from 2012 to 2016, thus  we have a 2 year shortage, but for comparison purposes, we may ignore it\n",
    "-  'msp_filter' column has the same value everywhere, thus we can remove it"
   ]
  },
  {
   "cell_type": "code",
   "execution_count": 11,
   "metadata": {},
   "outputs": [],
   "source": [
    "mandi_data.drop(labels=['state_name'],axis=1,inplace=True)\n",
    "msp_data.drop(labels=['msp_filter'],axis=1,inplace=True)"
   ]
  },
  {
   "cell_type": "code",
   "execution_count": 12,
   "metadata": {},
   "outputs": [],
   "source": [
    "msp_data['commodity'] = [i.lower() for i in msp_data.commodity.values]\n",
    "mandi_data['Commodity'] = [i.lower() for i in mandi_data.Commodity.values]\n",
    "mandi_data=mandi_data.rename(index=str, columns={\"Commodity\": \"commodity\"})"
   ]
  },
  {
   "cell_type": "code",
   "execution_count": 13,
   "metadata": {},
   "outputs": [],
   "source": [
    "mandi_data['date'] = pd.to_datetime(mandi_data['date'])"
   ]
  },
  {
   "cell_type": "code",
   "execution_count": 16,
   "metadata": {},
   "outputs": [
    {
     "name": "stdout",
     "output_type": "stream",
     "text": [
      "204\n",
      "175\n",
      "35\n",
      "296\n"
     ]
    }
   ],
   "source": [
    "print(len(mandi_data[mandi_data['modal_price']==0]))\n",
    "print(len(mandi_data[mandi_data['min_price']==0]))\n",
    "print(len(mandi_data[mandi_data['max_price']==0]))\n",
    "print(len(mandi_data[mandi_data['min_price']>mandi_data['max_price']]))"
   ]
  },
  {
   "cell_type": "markdown",
   "metadata": {},
   "source": [
    "# So we see, 710 rows with Logical Data Anomaly , So, we must recheck after Outlier Detection if these have been removed)"
   ]
  },
  {
   "cell_type": "markdown",
   "metadata": {},
   "source": [
    "# Let's Compare the number of unique commodities in both the datasets to see if we have naming Anomalies"
   ]
  },
  {
   "cell_type": "code",
   "execution_count": 18,
   "metadata": {},
   "outputs": [
    {
     "name": "stdout",
     "output_type": "stream",
     "text": [
      "204\n",
      "32\n"
     ]
    }
   ],
   "source": [
    "print(len(mandi_data['commodity'].unique()))\n",
    "print(len(msp_data['commodity'].unique()))"
   ]
  },
  {
   "cell_type": "markdown",
   "metadata": {},
   "source": [
    "# So, we may have two possibilities\n",
    "-  Unavailable data for some commodities\n",
    "-  Naming anomaly for some commodity"
   ]
  },
  {
   "cell_type": "code",
   "execution_count": 25,
   "metadata": {},
   "outputs": [
    {
     "name": "stdout",
     "output_type": "stream",
     "text": [
      "{'wheat(unhusked)', 'pigeon pea (tur)', 'paddy-unhusked', 'wheat(husked)', 'spilt gerrn gram', 'split black gram', 'sorgum(jawar)', 'niger-seed', 'bajri', 'mustard', 'sunflower', 'safflower', 'sugarcane', 'maize', 'coconut', 'sesamum', 'gr.nut kernels', 'rice(paddy-hus)', 'cotton'}\n",
      "19\n",
      "{'ambat chuka', 'green peas (dry)', 'amla', 'mustard', 'cabbage', 'safflower', 'gram', 'cardamom', 'rala', 'jack fruit(raw)', 'other cereals', 'linseed', 'hemp', 'mint', 'farshi', 'awala', 'raddish', 'soyabean', 'sunflower', 'spilt pigeon pea', 'brinjal', 'ghosali(bhaji)', 'ladies finger', 'indian bean', 'litchi', 'karvand', 'black gram', 'cluster bean', 'split lentil', 'dhemse', 'groundnut pods (wet)', 'sarsav', 'french bean', 'jui', 'kalvad', 'sorgum(jawar)', 'ridge gourd', 'bajri', 'turmeric', 'shevga', 'parwar', 'cow', 'soybean', 'masur_yellow', 'pitch', 'papnas', 'wheat(husked)', 'ghevda seed', 'bor', 'bhagar/vari', 'batbati', 'beet root', 'sugarcane', 'jack fruit', 'tuljapuri', 'orange', 'rice(paddy-hus)', 'lemon', 'custard apple', 'paddy-unhusked', 'hemp-seed', 'male lamb', 'matki', 'radish', 'naspatti ', 'sheep', 'coriander  ', 'green gram', 'kharbuj', 'other pulses', 'wal bhaji', 'shewanti', 'sugar-cane', 'methi (bhaji)', 'sesamum', 'tandulja', 'pavtta', 'nachani', 'buffalo', 'plum', 'fig', 'bijli', 'he buffalo', 'pomegranate', 'other oil seeds', 'split gram', 'harbara(bhaji)', 'double bee', 'mosambi', 'chino', 'strawberi', 'peer', 'lentil', 'gr.nut kernels', 'shepu', 'kagda', 'mango(raw)', 'niger-seed', 'neem-seed', 'math (bhaji)', 'nagali', 'ghevda', 'spilt gerrn gram', 'curry leaves', 'green chilli', 'pavata', 'elephant root', 'fenugreek', 'kardai', 'amba koy', 'soup berries', 'small gourd', 'sugar', 'wood apple', 'green-peas', 'pappaya (bhaji)', 'shahale', 'split black gram', 'pumpkin', 'ragi_maldandi', 'coriander (dry)', 'cucumber', 'squash gourd', 'leafy vegetable', 'cummin', 'fodder', 'toria_yellow', 'skin & bones', 'bullock heart', 'water melon', 'tag', 'lang', 'mango', 'ground nut pods (dry)', 'walvad', 'copra (ball)_yellow', 'bedana', 'cotton_long staple', 'barli', 'grapes', 'guvar', 'tomato', 'shepa', 'terda', 'flower', 'apple', 'kanda pat', 'rajgira', 'banana(raw)', 'cotton', 'betelnuts', 'baru seed', 'potato', 'banana', 'chillies(red)', 'jowar_hybrid', 'pineapple', 'other spices', 'maize (corn.)', 'ginger (dry)', 'zendu', 'oth.split pulses', 'maize', 'cowpea', 'punvad', 'tamarind seed', 'jute_yellow', 'other vegetables', 'snake gourd', 'aster', 'goats', 'fennel', 'chandani', 'wheat(unhusked)', 'kand', 'garlic', 'onion', 'hilda', 'harbara(pendi)', 'nolkol', 'bottle gourd', 'tamarind', 'coconut', 'soyabean_black', 'horse gram', 'arvi', 'ghee', 'gram_yellow', 'papai', 'mula shenga', 'chavli (shenga )', 'gulchadi', 'maize(corn.)', 'capsicum', 'castor seed', 'jambhul', 'pigen-pea (bhaji)', 'bitter gourd', 'copra (milling)_yellow', 'guava', 'bullack', 'chavli (pala)', 'pigeon pea (tur)', 'chikoo', 'sweet potato', 'melon', 'jaggery', 'cashewnuts', 'male goat', 'spinach', 'wal papdi', 'thymol/lovage', 'ginger (fresh)', 'coriander ', 'goosefoot', 'shahale ', 'carrot'}\n",
      "217\n"
     ]
    }
   ],
   "source": [
    "s1 = set(mandi_data['commodity'].unique())\n",
    "s2 = set(msp_data['commodity'].unique())\n",
    "s3 = s2.intersection(s1)\n",
    "s4 = s2.union(s1)\n",
    "print(s3)\n",
    "print(len(s3))\n",
    "print(s4)\n",
    "print(len(s4))"
   ]
  },
  {
   "cell_type": "markdown",
   "metadata": {},
   "source": [
    "# So, we see a great deal of abnormality in the Dataset, but still, moving ahead, with fixing this as much as possible, filling the missing values"
   ]
  },
  {
   "cell_type": "code",
   "execution_count": 28,
   "metadata": {},
   "outputs": [
    {
     "name": "stdout",
     "output_type": "stream",
     "text": [
      "['soyabean_black', 'soyabean_black', 'wheat(husked)', 'wheat(unhusked)', 'barli', 'gram_yellow', 'masur_yellow', 'mustard', 'safflower', 'toria_yellow']\n"
     ]
    }
   ],
   "source": [
    "missing = list(msp_data.loc[msp_data.isnull().any(axis=1)]['commodity'])\n",
    "print(missing)"
   ]
  },
  {
   "cell_type": "markdown",
   "metadata": {},
   "source": [
    "# Fixing missing values with mean of values from the past"
   ]
  },
  {
   "cell_type": "code",
   "execution_count": 29,
   "metadata": {},
   "outputs": [],
   "source": [
    "for i in range(len(missing)):\n",
    "    msp_data.loc[(msp_data.commodity == missing[i]) & (msp_data.msprice.isnull()),'msprice'] = msp_data.loc[(msp_data.commodity == missing[i]),'msprice'].mean()"
   ]
  },
  {
   "cell_type": "code",
   "execution_count": 30,
   "metadata": {},
   "outputs": [
    {
     "name": "stdout",
     "output_type": "stream",
     "text": [
      "<class 'pandas.core.frame.DataFrame'>\n",
      "RangeIndex: 155 entries, 0 to 154\n",
      "Data columns (total 4 columns):\n",
      "commodity    155 non-null object\n",
      "year         155 non-null int64\n",
      "Type         155 non-null object\n",
      "msprice      155 non-null float64\n",
      "dtypes: float64(1), int64(1), object(2)\n",
      "memory usage: 4.9+ KB\n"
     ]
    }
   ],
   "source": [
    "msp_data.info()"
   ]
  },
  {
   "cell_type": "markdown",
   "metadata": {},
   "source": [
    "# So, the missing value cells have been fixed, based on values we have from the past time series of the same commodity,we verify data and export it for further Analysis"
   ]
  },
  {
   "cell_type": "markdown",
   "metadata": {},
   "source": [
    "# We now try to understand the skewness and distribution of frequencies of APMC's and Commodities in dataset"
   ]
  },
  {
   "cell_type": "code",
   "execution_count": 50,
   "metadata": {},
   "outputs": [
    {
     "data": {
      "image/png": "[encoded data removed]",
      "text/plain": [
       "<Figure size 432x288 with 1 Axes>"
      ]
     },
     "metadata": {
      "needs_background": "light"
     },
     "output_type": "display_data"
    }
   ],
   "source": [
    "sns.distplot(mandi_data.APMC.value_counts())\n",
    "plt.savefig('APMC_dist.png',dpi = 200)"
   ]
  },
  {
   "cell_type": "code",
   "execution_count": 49,
   "metadata": {},
   "outputs": [
    {
     "data": {
      "image/png": "[encoded data removed]",
      "text/plain": [
       "<Figure size 432x288 with 1 Axes>"
      ]
     },
     "metadata": {
      "needs_background": "light"
     },
     "output_type": "display_data"
    }
   ],
   "source": [
    "sns.distplot(mandi_data.commodity.value_counts())\n",
    "plt.savefig('Commodity_dist.png',dpi = 200)"
   ]
  },
  {
   "cell_type": "markdown",
   "metadata": {},
   "source": [
    "# Observations-\n",
    "-  We find that the data for the APMC's is highly skewed\n",
    "-  This implies, we have a lot of data for larger and affluent APMC's like Mumbai,Pune, Nagpur, e.t.c but not for APMC's like Biloli,Kuntur,Bhoom e.t.c, this needs to be fixed by the Government while Data Collection\n",
    "-  We also see that, a greater deal of skewness exists in the commodities distribution, but that can be logically understood with supply-demand phenomenon of Districts\n",
    "-  While, analysing Seasonality, we must make sure we take commodities and APMC's with sufficient values for a crisp analysis and correct detection \n",
    "\n",
    "# Finally,\n",
    "-  We Export the datasets to be used in further Analysis\n"
   ]
  },
  {
   "cell_type": "code",
   "execution_count": 33,
   "metadata": {},
   "outputs": [],
   "source": [
    "mandi_data.to_csv('Cleansed_mandi_data.csv')\n",
    "msp_data.to_csv('Cleansed_msp_data.csv')"
   ]
  }
 ],
 "metadata": {
  "kernelspec": {
   "display_name": "Python 3",
   "language": "python",
   "name": "python3"
  },
  "language_info": {
   "codemirror_mode": {
    "name": "ipython",
    "version": 3
   },
   "file_extension": ".py",
   "mimetype": "text/x-python",
   "name": "python",
   "nbconvert_exporter": "python",
   "pygments_lexer": "ipython3",
   "version": "3.6.6"
  }
 },
 "nbformat": 4,
 "nbformat_minor": 2
}
