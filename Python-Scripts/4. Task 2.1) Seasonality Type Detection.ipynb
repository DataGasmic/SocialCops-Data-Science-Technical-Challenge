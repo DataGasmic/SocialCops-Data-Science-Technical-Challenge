{
 "cells": [
  {
   "cell_type": "code",
   "execution_count": 50,
   "metadata": {},
   "outputs": [],
   "source": [
    "import pandas as pd\n",
    "import numpy as np\n",
    "import matplotlib.pyplot as plt\n",
    "import seaborn as sns\n",
    "from statsmodels.tsa.seasonal import seasonal_decompose\n",
    "from statsmodels.tsa.stattools import acf\n",
    "%matplotlib inline\n",
    "import warnings\n",
    "warnings.filterwarnings('ignore')"
   ]
  },
  {
   "cell_type": "code",
   "execution_count": 8,
   "metadata": {},
   "outputs": [],
   "source": [
    "mandi_data = pd.read_csv(\"Seasonality_Analysis_data.csv\")\n",
    "mandi_data['date'] = pd.to_datetime(mandi_data['date'])"
   ]
  },
  {
   "cell_type": "code",
   "execution_count": 12,
   "metadata": {},
   "outputs": [
    {
     "data": {
      "text/html": [
       "<div>\n",
       "<style scoped>\n",
       "    .dataframe tbody tr th:only-of-type {\n",
       "        vertical-align: middle;\n",
       "    }\n",
       "\n",
       "    .dataframe tbody tr th {\n",
       "        vertical-align: top;\n",
       "    }\n",
       "\n",
       "    .dataframe thead th {\n",
       "        text-align: right;\n",
       "    }\n",
       "</style>\n",
       "<table border=\"1\" class=\"dataframe\">\n",
       "  <thead>\n",
       "    <tr style=\"text-align: right;\">\n",
       "      <th></th>\n",
       "      <th>APMC</th>\n",
       "      <th>commodity</th>\n",
       "      <th>Year</th>\n",
       "      <th>Month</th>\n",
       "      <th>arrivals_in_qtl</th>\n",
       "      <th>min_price</th>\n",
       "      <th>max_price</th>\n",
       "      <th>modal_price</th>\n",
       "      <th>date</th>\n",
       "      <th>district_name</th>\n",
       "    </tr>\n",
       "  </thead>\n",
       "  <tbody>\n",
       "    <tr>\n",
       "      <th>0</th>\n",
       "      <td>Yeotmal</td>\n",
       "      <td>soybean</td>\n",
       "      <td>2015</td>\n",
       "      <td>April</td>\n",
       "      <td>12384</td>\n",
       "      <td>3311</td>\n",
       "      <td>3739</td>\n",
       "      <td>3527.0</td>\n",
       "      <td>2015-04-01</td>\n",
       "      <td>Yewatmal</td>\n",
       "    </tr>\n",
       "    <tr>\n",
       "      <th>1</th>\n",
       "      <td>Yeotmal</td>\n",
       "      <td>soybean</td>\n",
       "      <td>2016</td>\n",
       "      <td>April</td>\n",
       "      <td>20978</td>\n",
       "      <td>3661</td>\n",
       "      <td>4045</td>\n",
       "      <td>3857.0</td>\n",
       "      <td>2016-04-01</td>\n",
       "      <td>Yewatmal</td>\n",
       "    </tr>\n",
       "    <tr>\n",
       "      <th>2</th>\n",
       "      <td>Yeotmal</td>\n",
       "      <td>soybean</td>\n",
       "      <td>2015</td>\n",
       "      <td>August</td>\n",
       "      <td>5958</td>\n",
       "      <td>3029</td>\n",
       "      <td>3321</td>\n",
       "      <td>3240.0</td>\n",
       "      <td>2015-08-01</td>\n",
       "      <td>Yewatmal</td>\n",
       "    </tr>\n",
       "    <tr>\n",
       "      <th>3</th>\n",
       "      <td>Yeotmal</td>\n",
       "      <td>soybean</td>\n",
       "      <td>2016</td>\n",
       "      <td>August</td>\n",
       "      <td>3539</td>\n",
       "      <td>3089</td>\n",
       "      <td>3438</td>\n",
       "      <td>3282.0</td>\n",
       "      <td>2016-08-01</td>\n",
       "      <td>Yewatmal</td>\n",
       "    </tr>\n",
       "    <tr>\n",
       "      <th>4</th>\n",
       "      <td>Yeotmal</td>\n",
       "      <td>soybean</td>\n",
       "      <td>2014</td>\n",
       "      <td>December</td>\n",
       "      <td>18921</td>\n",
       "      <td>3014</td>\n",
       "      <td>3300</td>\n",
       "      <td>3163.0</td>\n",
       "      <td>2014-12-01</td>\n",
       "      <td>Yewatmal</td>\n",
       "    </tr>\n",
       "  </tbody>\n",
       "</table>\n",
       "</div>"
      ],
      "text/plain": [
       "      APMC commodity  Year     Month  arrivals_in_qtl  min_price  max_price  \\\n",
       "0  Yeotmal   soybean  2015     April            12384       3311       3739   \n",
       "1  Yeotmal   soybean  2016     April            20978       3661       4045   \n",
       "2  Yeotmal   soybean  2015    August             5958       3029       3321   \n",
       "3  Yeotmal   soybean  2016    August             3539       3089       3438   \n",
       "4  Yeotmal   soybean  2014  December            18921       3014       3300   \n",
       "\n",
       "   modal_price       date district_name  \n",
       "0       3527.0 2015-04-01      Yewatmal  \n",
       "1       3857.0 2016-04-01      Yewatmal  \n",
       "2       3240.0 2015-08-01      Yewatmal  \n",
       "3       3282.0 2016-08-01      Yewatmal  \n",
       "4       3163.0 2014-12-01      Yewatmal  "
      ]
     },
     "execution_count": 12,
     "metadata": {},
     "output_type": "execute_result"
    }
   ],
   "source": [
    "mandi_data.head()"
   ]
  },
  {
   "cell_type": "markdown",
   "metadata": {},
   "source": [
    "# Creating Seasonality Type Detection Function that adds a new column to the DataFrame with-\n",
    "-  Seasonality types\n",
    "  -  Multiplicative ( Observed = Level* Trend* Seasonal* Noise )\n",
    "  -  Additive       ( Observed = Level+ Trend+ Seasonal+ Noise )\n",
    "  \n",
    "\n",
    "#  Using the seasonal_decompose method to detect the type of Seasonality using the function below\n",
    "\n",
    "-  We work with quarterly frequency, to appropriately judge Se"
   ]
  },
  {
   "cell_type": "code",
   "execution_count": 67,
   "metadata": {},
   "outputs": [],
   "source": [
    "def Seasonality_Type(apmc,commodity):\n",
    "    dframe = mandi_data.groupby(['APMC','commodity']).get_group((apmc,commodity))[['date','modal_price']]\n",
    "    dframe['date'] = pd.to_datetime(dframe['date'])\n",
    "    dframe = dframe.sort_values(by=['date'])\n",
    "    dframe = dframe.set_index('date')\n",
    "    type_add = seasonal_decompose(dframe,model='additive', freq = 3).resid[1:-1] # Quarterly Analysis, freq=3, every 3 values\n",
    "    type_mul = seasonal_decompose(dframe,model='multiplicative', freq = 3).resid[1:-1] # Resid Array Slicing\n",
    "    detect_add = np.linalg.norm(acf(type_add)) # Correlation fucntion 'acf' to detect type\n",
    "    detect_mul = np.linalg.norm(acf(type_mul))\n",
    "    if(detect_add>detect_mul):\n",
    "        return 'Multiplicative'\n",
    "    else:\n",
    "        return 'Additive'"
   ]
  },
  {
   "cell_type": "markdown",
   "metadata": {},
   "source": [
    "# Creating a Temporary DataFrame to extract unique pairs of APMC's and Commodities"
   ]
  },
  {
   "cell_type": "code",
   "execution_count": 36,
   "metadata": {},
   "outputs": [],
   "source": [
    "temp_df= mandi_data.groupby(['APMC','commodity']).size().reset_index().rename(columns={0:'Frequency'})"
   ]
  },
  {
   "cell_type": "code",
   "execution_count": 38,
   "metadata": {},
   "outputs": [
    {
     "data": {
      "text/html": [
       "<div>\n",
       "<style scoped>\n",
       "    .dataframe tbody tr th:only-of-type {\n",
       "        vertical-align: middle;\n",
       "    }\n",
       "\n",
       "    .dataframe tbody tr th {\n",
       "        vertical-align: top;\n",
       "    }\n",
       "\n",
       "    .dataframe thead th {\n",
       "        text-align: right;\n",
       "    }\n",
       "</style>\n",
       "<table border=\"1\" class=\"dataframe\">\n",
       "  <thead>\n",
       "    <tr style=\"text-align: right;\">\n",
       "      <th></th>\n",
       "      <th>APMC</th>\n",
       "      <th>commodity</th>\n",
       "      <th>Frequency</th>\n",
       "    </tr>\n",
       "  </thead>\n",
       "  <tbody>\n",
       "    <tr>\n",
       "      <th>0</th>\n",
       "      <td>Aamgaon</td>\n",
       "      <td>paddy-unhusked</td>\n",
       "      <td>27</td>\n",
       "    </tr>\n",
       "    <tr>\n",
       "      <th>1</th>\n",
       "      <td>Akhadabalapur</td>\n",
       "      <td>soybean</td>\n",
       "      <td>27</td>\n",
       "    </tr>\n",
       "    <tr>\n",
       "      <th>2</th>\n",
       "      <td>Akluj</td>\n",
       "      <td>bitter gourd</td>\n",
       "      <td>27</td>\n",
       "    </tr>\n",
       "    <tr>\n",
       "      <th>3</th>\n",
       "      <td>Akluj</td>\n",
       "      <td>brinjal</td>\n",
       "      <td>26</td>\n",
       "    </tr>\n",
       "    <tr>\n",
       "      <th>4</th>\n",
       "      <td>Akluj</td>\n",
       "      <td>cabbage</td>\n",
       "      <td>27</td>\n",
       "    </tr>\n",
       "  </tbody>\n",
       "</table>\n",
       "</div>"
      ],
      "text/plain": [
       "            APMC       commodity  Frequency\n",
       "0        Aamgaon  paddy-unhusked         27\n",
       "1  Akhadabalapur         soybean         27\n",
       "2          Akluj    bitter gourd         27\n",
       "3          Akluj         brinjal         26\n",
       "4          Akluj         cabbage         27"
      ]
     },
     "execution_count": 38,
     "metadata": {},
     "output_type": "execute_result"
    }
   ],
   "source": [
    "temp_df.head()"
   ]
  },
  {
   "cell_type": "markdown",
   "metadata": {},
   "source": [
    "# Detecting the Seasonality Type for each unique pair, and creating the final Dataframe"
   ]
  },
  {
   "cell_type": "code",
   "execution_count": 68,
   "metadata": {},
   "outputs": [],
   "source": [
    "Seasonality_Detected = pd.DataFrame()\n",
    "for i,row in temp_df.iterrows():\n",
    "    ses_type = Seasonality_Type(row.APMC,row.commodity)\n",
    "    df = mandi_data[(mandi_data['APMC']==row.APMC)&(mandi_data['commodity']==row.commodity)]\n",
    "    df['Seasonality_Type'] = ses_type\n",
    "    Seasonality_Detected=pd.concat([df,Seasonality_Detected])\n",
    "    "
   ]
  },
  {
   "cell_type": "markdown",
   "metadata": {},
   "source": [
    "# Observing the Data to look for any anomaly or Algorithmic/Coding error "
   ]
  },
  {
   "cell_type": "code",
   "execution_count": 69,
   "metadata": {},
   "outputs": [],
   "source": [
    "show_df = Seasonality_Detected.groupby(['APMC','commodity','Seasonality_Type']).size().reset_index()"
   ]
  },
  {
   "cell_type": "code",
   "execution_count": 72,
   "metadata": {},
   "outputs": [
    {
     "data": {
      "text/plain": [
       "Additive          441\n",
       "Multiplicative    404\n",
       "Name: Seasonality_Type, dtype: int64"
      ]
     },
     "execution_count": 72,
     "metadata": {},
     "output_type": "execute_result"
    }
   ],
   "source": [
    "show_df.Seasonality_Type.value_counts()"
   ]
  },
  {
   "cell_type": "markdown",
   "metadata": {},
   "source": [
    "# We don't observe significant Skewness in the Data based on the frequency of Types, above.\n",
    "\n",
    "\n"
   ]
  },
  {
   "cell_type": "markdown",
   "metadata": {},
   "source": [
    "# Trying to hard-code the seasonal_decompose method, creating new Function\n",
    "\n",
    "-  Manually Adding a Quarter Column as we are Analysing Quarterly"
   ]
  },
  {
   "cell_type": "code",
   "execution_count": 82,
   "metadata": {},
   "outputs": [],
   "source": [
    "mandi_data['Quarter'] = pd.to_datetime(mandi_data.date).dt.quarter"
   ]
  },
  {
   "cell_type": "code",
   "execution_count": 84,
   "metadata": {},
   "outputs": [
    {
     "data": {
      "text/html": [
       "<div>\n",
       "<style scoped>\n",
       "    .dataframe tbody tr th:only-of-type {\n",
       "        vertical-align: middle;\n",
       "    }\n",
       "\n",
       "    .dataframe tbody tr th {\n",
       "        vertical-align: top;\n",
       "    }\n",
       "\n",
       "    .dataframe thead th {\n",
       "        text-align: right;\n",
       "    }\n",
       "</style>\n",
       "<table border=\"1\" class=\"dataframe\">\n",
       "  <thead>\n",
       "    <tr style=\"text-align: right;\">\n",
       "      <th></th>\n",
       "      <th>APMC</th>\n",
       "      <th>commodity</th>\n",
       "      <th>Year</th>\n",
       "      <th>Month</th>\n",
       "      <th>arrivals_in_qtl</th>\n",
       "      <th>min_price</th>\n",
       "      <th>max_price</th>\n",
       "      <th>modal_price</th>\n",
       "      <th>date</th>\n",
       "      <th>district_name</th>\n",
       "      <th>Quarter</th>\n",
       "    </tr>\n",
       "  </thead>\n",
       "  <tbody>\n",
       "    <tr>\n",
       "      <th>0</th>\n",
       "      <td>Yeotmal</td>\n",
       "      <td>soybean</td>\n",
       "      <td>2015</td>\n",
       "      <td>April</td>\n",
       "      <td>12384</td>\n",
       "      <td>3311</td>\n",
       "      <td>3739</td>\n",
       "      <td>3527.0</td>\n",
       "      <td>2015-04-01</td>\n",
       "      <td>Yewatmal</td>\n",
       "      <td>2</td>\n",
       "    </tr>\n",
       "    <tr>\n",
       "      <th>1</th>\n",
       "      <td>Yeotmal</td>\n",
       "      <td>soybean</td>\n",
       "      <td>2016</td>\n",
       "      <td>April</td>\n",
       "      <td>20978</td>\n",
       "      <td>3661</td>\n",
       "      <td>4045</td>\n",
       "      <td>3857.0</td>\n",
       "      <td>2016-04-01</td>\n",
       "      <td>Yewatmal</td>\n",
       "      <td>2</td>\n",
       "    </tr>\n",
       "    <tr>\n",
       "      <th>2</th>\n",
       "      <td>Yeotmal</td>\n",
       "      <td>soybean</td>\n",
       "      <td>2015</td>\n",
       "      <td>August</td>\n",
       "      <td>5958</td>\n",
       "      <td>3029</td>\n",
       "      <td>3321</td>\n",
       "      <td>3240.0</td>\n",
       "      <td>2015-08-01</td>\n",
       "      <td>Yewatmal</td>\n",
       "      <td>3</td>\n",
       "    </tr>\n",
       "    <tr>\n",
       "      <th>3</th>\n",
       "      <td>Yeotmal</td>\n",
       "      <td>soybean</td>\n",
       "      <td>2016</td>\n",
       "      <td>August</td>\n",
       "      <td>3539</td>\n",
       "      <td>3089</td>\n",
       "      <td>3438</td>\n",
       "      <td>3282.0</td>\n",
       "      <td>2016-08-01</td>\n",
       "      <td>Yewatmal</td>\n",
       "      <td>3</td>\n",
       "    </tr>\n",
       "    <tr>\n",
       "      <th>4</th>\n",
       "      <td>Yeotmal</td>\n",
       "      <td>soybean</td>\n",
       "      <td>2014</td>\n",
       "      <td>December</td>\n",
       "      <td>18921</td>\n",
       "      <td>3014</td>\n",
       "      <td>3300</td>\n",
       "      <td>3163.0</td>\n",
       "      <td>2014-12-01</td>\n",
       "      <td>Yewatmal</td>\n",
       "      <td>4</td>\n",
       "    </tr>\n",
       "  </tbody>\n",
       "</table>\n",
       "</div>"
      ],
      "text/plain": [
       "      APMC commodity  Year     Month  arrivals_in_qtl  min_price  max_price  \\\n",
       "0  Yeotmal   soybean  2015     April            12384       3311       3739   \n",
       "1  Yeotmal   soybean  2016     April            20978       3661       4045   \n",
       "2  Yeotmal   soybean  2015    August             5958       3029       3321   \n",
       "3  Yeotmal   soybean  2016    August             3539       3089       3438   \n",
       "4  Yeotmal   soybean  2014  December            18921       3014       3300   \n",
       "\n",
       "   modal_price       date district_name  Quarter  \n",
       "0       3527.0 2015-04-01      Yewatmal        2  \n",
       "1       3857.0 2016-04-01      Yewatmal        2  \n",
       "2       3240.0 2015-08-01      Yewatmal        3  \n",
       "3       3282.0 2016-08-01      Yewatmal        3  \n",
       "4       3163.0 2014-12-01      Yewatmal        4  "
      ]
     },
     "execution_count": 84,
     "metadata": {},
     "output_type": "execute_result"
    }
   ],
   "source": [
    "mandi_data.head()"
   ]
  },
  {
   "cell_type": "markdown",
   "metadata": {},
   "source": [
    "# We go through the following Process-\n",
    "\n",
    "-  First, remove the trend from the observed, using rolling mean with quarterly window\n",
    "-  Second,get the seasonal component from the remaining ,using mean over grouped quarters\n",
    "-  Third, get the residual component of the price by substracting seasonal component from the trend component\n",
    "-  Lastly, use ACF again and find the Type"
   ]
  },
  {
   "cell_type": "code",
   "execution_count": 111,
   "metadata": {},
   "outputs": [],
   "source": [
    "def Seasonality_Detect(apmc,comm):\n",
    "    dframe = mandi_data.groupby(['APMC','commodity']).get_group((apmc,comm))[['date','modal_price','Quarter']]\n",
    "    dframe['date'] = pd.to_datetime(dframe['date'])\n",
    "    dframe = dframe.sort_values(by=['date'])\n",
    "    dframe = dframe.set_index('date')\n",
    "    # FIRST\n",
    "    dframe['Trend'] = dframe['modal_price'].rolling(window = 2).mean() # To know the real trend of the data, by averaging\n",
    "    dframe['add_remove'] = dframe['modal_price'] - dframe['Trend'] # Additive type, Trend Substracted\n",
    "    dframe['mul_remove'] = dframe['modal_price'] / dframe['Trend'] # Multiplicative type, Trend Divided\n",
    "    #SECOND\n",
    "    add_qrt_mean = dframe.groupby(['Quarter'])[['add_remove','Quarter']].mean().to_dict()['add_remove']\n",
    "    mul_qrt_mean = dframe.groupby(['Quarter'])[['mul_remove','Quarter']].mean().to_dict()['mul_remove']\n",
    "    \n",
    "    dframe['add_ses_com'] = dframe['Quarter'].apply(lambda x: add_qrt_mean[x])\n",
    "    dframe['mul_ses_com'] = dframe['Quarter'].apply(lambda x: mul_qrt_mean[x])\n",
    "    #THIRD\n",
    "    dframe['add_residual'] = dframe['add_remove'] - dframe['add_ses_com']\n",
    "    dframe['mul_residual'] = dframe['mul_remove'] - dframe['mul_ses_com']\n",
    "    #FOURTH and LAST\n",
    "    detect_add = sum(np.asarray(acf(dframe['add_residual']))*2) # Correlation fucntion 'acf' to detect type\n",
    "    detect_mul = sum(np.asarray(acf(dframe['mul_residual']))*2)\n",
    "    if(detect_add>detect_mul):\n",
    "        return 'Multiplicative'\n",
    "    else:\n",
    "        return 'Additive'\n",
    "    \n",
    "    "
   ]
  },
  {
   "cell_type": "code",
   "execution_count": 112,
   "metadata": {},
   "outputs": [],
   "source": [
    "temp_df= mandi_data.groupby(['APMC','commodity']).size().reset_index().rename(columns={0:'Frequency'})\n",
    "Seasonality_Detected_2 = pd.DataFrame()\n",
    "for i,row in temp_df.iterrows():\n",
    "    ses_type = Seasonality_Detect(row.APMC,row.commodity)\n",
    "    df = mandi_data[(mandi_data['APMC']==row.APMC)&(mandi_data['commodity']==row.commodity)]\n",
    "    df['Seasonality_Type'] = ses_type\n",
    "    Seasonality_Detected_2=pd.concat([df,Seasonality_Detected_2])"
   ]
  },
  {
   "cell_type": "code",
   "execution_count": null,
   "metadata": {
    "scrolled": true
   },
   "outputs": [],
   "source": [
    "show_df = Seasonality_Detected_2.groupby(['APMC','commodity','Seasonality_Type']).size().reset_index()\n",
    "show_df.Seasonality_Type.value_counts()"
   ]
  },
  {
   "cell_type": "markdown",
   "metadata": {},
   "source": [
    "# We finally export the Data,for Deseasonalizing based on Detected Type"
   ]
  },
  {
   "cell_type": "code",
   "execution_count": 115,
   "metadata": {},
   "outputs": [],
   "source": [
    "Seasonality_Detected.to_csv('Seasonality_Type_Detected_Data.csv',index=False)"
   ]
  }
 ],
 "metadata": {
  "kernelspec": {
   "display_name": "Python 3",
   "language": "python",
   "name": "python3"
  },
  "language_info": {
   "codemirror_mode": {
    "name": "ipython",
    "version": 3
   },
   "file_extension": ".py",
   "mimetype": "text/x-python",
   "name": "python",
   "nbconvert_exporter": "python",
   "pygments_lexer": "ipython3",
   "version": "3.6.6"
  }
 },
 "nbformat": 4,
 "nbformat_minor": 2
}
