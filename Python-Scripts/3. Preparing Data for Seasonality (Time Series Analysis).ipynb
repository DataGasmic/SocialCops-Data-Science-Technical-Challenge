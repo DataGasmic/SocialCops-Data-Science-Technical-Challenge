{
 "cells": [
  {
   "cell_type": "markdown",
   "metadata": {},
   "source": [
    "# Because we had observed a lot of skewness in data for different commodities and APMC's in Data Exploration\n",
    "-  We need to prepare data first for seasonal analysis\n",
    "-  Setting a minimum data frequency (example : yearly, quarterly,half yearly)\n",
    "-  Finally we need to import this specific data for Seasonality Detection and Pricing of commodities "
   ]
  },
  {
   "cell_type": "code",
   "execution_count": 1,
   "metadata": {},
   "outputs": [],
   "source": [
    "import pandas as pd\n",
    "import numpy as np"
   ]
  },
  {
   "cell_type": "code",
   "execution_count": 7,
   "metadata": {},
   "outputs": [],
   "source": [
    "mandi_data = pd.read_csv(\"Outlier_removed_mandi_data.csv\")"
   ]
  },
  {
   "cell_type": "markdown",
   "metadata": {},
   "source": [
    "# Since, time-series is heavily based on calculations with 'DATE',we convert date column's data-type to enable arithmetic operations on data"
   ]
  },
  {
   "cell_type": "code",
   "execution_count": 10,
   "metadata": {},
   "outputs": [],
   "source": [
    "mandi_data.drop(labels = ['Unnamed: 0'],inplace=True,axis=1)\n",
    "mandi_data['date'] = pd.to_datetime(mandi_data['date'])"
   ]
  },
  {
   "cell_type": "code",
   "execution_count": 11,
   "metadata": {},
   "outputs": [
    {
     "data": {
      "text/html": [
       "<div>\n",
       "<style scoped>\n",
       "    .dataframe tbody tr th:only-of-type {\n",
       "        vertical-align: middle;\n",
       "    }\n",
       "\n",
       "    .dataframe tbody tr th {\n",
       "        vertical-align: top;\n",
       "    }\n",
       "\n",
       "    .dataframe thead th {\n",
       "        text-align: right;\n",
       "    }\n",
       "</style>\n",
       "<table border=\"1\" class=\"dataframe\">\n",
       "  <thead>\n",
       "    <tr style=\"text-align: right;\">\n",
       "      <th></th>\n",
       "      <th>APMC</th>\n",
       "      <th>commodity</th>\n",
       "      <th>Year</th>\n",
       "      <th>Month</th>\n",
       "      <th>arrivals_in_qtl</th>\n",
       "      <th>min_price</th>\n",
       "      <th>max_price</th>\n",
       "      <th>modal_price</th>\n",
       "      <th>date</th>\n",
       "      <th>district_name</th>\n",
       "    </tr>\n",
       "  </thead>\n",
       "  <tbody>\n",
       "    <tr>\n",
       "      <th>0</th>\n",
       "      <td>Kalyan (Cattle Market)</td>\n",
       "      <td>kalvad</td>\n",
       "      <td>2016</td>\n",
       "      <td>February</td>\n",
       "      <td>3</td>\n",
       "      <td>12000</td>\n",
       "      <td>18000</td>\n",
       "      <td>15000.0</td>\n",
       "      <td>2016-02-01</td>\n",
       "      <td>Thane</td>\n",
       "    </tr>\n",
       "    <tr>\n",
       "      <th>1</th>\n",
       "      <td>Kalyan (Cattle Market)</td>\n",
       "      <td>kalvad</td>\n",
       "      <td>2016</td>\n",
       "      <td>June</td>\n",
       "      <td>3</td>\n",
       "      <td>25000</td>\n",
       "      <td>30000</td>\n",
       "      <td>28000.0</td>\n",
       "      <td>2016-06-01</td>\n",
       "      <td>Thane</td>\n",
       "    </tr>\n",
       "    <tr>\n",
       "      <th>2</th>\n",
       "      <td>Kalyan</td>\n",
       "      <td>chandani</td>\n",
       "      <td>2015</td>\n",
       "      <td>December</td>\n",
       "      <td>6</td>\n",
       "      <td>6000</td>\n",
       "      <td>7000</td>\n",
       "      <td>6900.0</td>\n",
       "      <td>2015-12-01</td>\n",
       "      <td>Thane</td>\n",
       "    </tr>\n",
       "    <tr>\n",
       "      <th>3</th>\n",
       "      <td>Kalyan</td>\n",
       "      <td>chandani</td>\n",
       "      <td>2016</td>\n",
       "      <td>January</td>\n",
       "      <td>6</td>\n",
       "      <td>10000</td>\n",
       "      <td>12000</td>\n",
       "      <td>12000.0</td>\n",
       "      <td>2016-01-01</td>\n",
       "      <td>Thane</td>\n",
       "    </tr>\n",
       "    <tr>\n",
       "      <th>4</th>\n",
       "      <td>Kalyan</td>\n",
       "      <td>aster</td>\n",
       "      <td>2015</td>\n",
       "      <td>December</td>\n",
       "      <td>15</td>\n",
       "      <td>8000</td>\n",
       "      <td>9600</td>\n",
       "      <td>8860.0</td>\n",
       "      <td>2015-12-01</td>\n",
       "      <td>Thane</td>\n",
       "    </tr>\n",
       "  </tbody>\n",
       "</table>\n",
       "</div>"
      ],
      "text/plain": [
       "                     APMC commodity  Year     Month  arrivals_in_qtl  \\\n",
       "0  Kalyan (Cattle Market)    kalvad  2016  February                3   \n",
       "1  Kalyan (Cattle Market)    kalvad  2016      June                3   \n",
       "2                  Kalyan  chandani  2015  December                6   \n",
       "3                  Kalyan  chandani  2016   January                6   \n",
       "4                  Kalyan     aster  2015  December               15   \n",
       "\n",
       "   min_price  max_price  modal_price       date district_name  \n",
       "0      12000      18000      15000.0 2016-02-01         Thane  \n",
       "1      25000      30000      28000.0 2016-06-01         Thane  \n",
       "2       6000       7000       6900.0 2015-12-01         Thane  \n",
       "3      10000      12000      12000.0 2016-01-01         Thane  \n",
       "4       8000       9600       8860.0 2015-12-01         Thane  "
      ]
     },
     "execution_count": 11,
     "metadata": {},
     "output_type": "execute_result"
    }
   ],
   "source": [
    "mandi_data.head()"
   ]
  },
  {
   "cell_type": "markdown",
   "metadata": {},
   "source": [
    "# The Data looks fine, now let's filter data such that it must have 12 values,\n",
    "-  (All months data) for every unique combination of Year, APMC and commodity"
   ]
  },
  {
   "cell_type": "code",
   "execution_count": 19,
   "metadata": {},
   "outputs": [],
   "source": [
    "prep_data = mandi_data[['APMC','commodity','Year','modal_price']].groupby(['APMC','Year','commodity'],\n",
    "                        as_index=False).count().rename(columns={'modal_price':'Frequency'})"
   ]
  },
  {
   "cell_type": "code",
   "execution_count": 20,
   "metadata": {},
   "outputs": [],
   "source": [
    "prep_data = prep_data[prep_data['Frequency']==12].reset_index(drop=True)"
   ]
  },
  {
   "cell_type": "code",
   "execution_count": 24,
   "metadata": {},
   "outputs": [
    {
     "data": {
      "text/html": [
       "<div>\n",
       "<style scoped>\n",
       "    .dataframe tbody tr th:only-of-type {\n",
       "        vertical-align: middle;\n",
       "    }\n",
       "\n",
       "    .dataframe tbody tr th {\n",
       "        vertical-align: top;\n",
       "    }\n",
       "\n",
       "    .dataframe thead th {\n",
       "        text-align: right;\n",
       "    }\n",
       "</style>\n",
       "<table border=\"1\" class=\"dataframe\">\n",
       "  <thead>\n",
       "    <tr style=\"text-align: right;\">\n",
       "      <th></th>\n",
       "      <th>APMC</th>\n",
       "      <th>Year</th>\n",
       "      <th>commodity</th>\n",
       "      <th>Frequency</th>\n",
       "    </tr>\n",
       "  </thead>\n",
       "  <tbody>\n",
       "    <tr>\n",
       "      <th>0</th>\n",
       "      <td>Aamgaon</td>\n",
       "      <td>2015</td>\n",
       "      <td>paddy-unhusked</td>\n",
       "      <td>12</td>\n",
       "    </tr>\n",
       "    <tr>\n",
       "      <th>1</th>\n",
       "      <td>Akhadabalapur</td>\n",
       "      <td>2015</td>\n",
       "      <td>soybean</td>\n",
       "      <td>12</td>\n",
       "    </tr>\n",
       "    <tr>\n",
       "      <th>2</th>\n",
       "      <td>Akluj</td>\n",
       "      <td>2015</td>\n",
       "      <td>bitter gourd</td>\n",
       "      <td>12</td>\n",
       "    </tr>\n",
       "    <tr>\n",
       "      <th>3</th>\n",
       "      <td>Akluj</td>\n",
       "      <td>2015</td>\n",
       "      <td>brinjal</td>\n",
       "      <td>12</td>\n",
       "    </tr>\n",
       "    <tr>\n",
       "      <th>4</th>\n",
       "      <td>Akluj</td>\n",
       "      <td>2015</td>\n",
       "      <td>cabbage</td>\n",
       "      <td>12</td>\n",
       "    </tr>\n",
       "  </tbody>\n",
       "</table>\n",
       "</div>"
      ],
      "text/plain": [
       "            APMC  Year       commodity  Frequency\n",
       "0        Aamgaon  2015  paddy-unhusked         12\n",
       "1  Akhadabalapur  2015         soybean         12\n",
       "2          Akluj  2015    bitter gourd         12\n",
       "3          Akluj  2015         brinjal         12\n",
       "4          Akluj  2015         cabbage         12"
      ]
     },
     "execution_count": 24,
     "metadata": {},
     "output_type": "execute_result"
    }
   ],
   "source": [
    "prep_data.head()"
   ]
  },
  {
   "cell_type": "markdown",
   "metadata": {},
   "source": [
    "# Addressing the number of Data values for seasonality Analysis\n",
    "-  845 , after constarining value frequency"
   ]
  },
  {
   "cell_type": "code",
   "execution_count": 22,
   "metadata": {},
   "outputs": [
    {
     "name": "stdout",
     "output_type": "stream",
     "text": [
      "845\n"
     ]
    }
   ],
   "source": [
    "print(len(prep_data))"
   ]
  },
  {
   "cell_type": "markdown",
   "metadata": {},
   "source": [
    "# Now choosing only those rows from the mandi_data, that contain combinations given in prep_data"
   ]
  },
  {
   "cell_type": "code",
   "execution_count": 48,
   "metadata": {},
   "outputs": [],
   "source": [
    "final_df =pd.DataFrame()\n",
    "for i,row in prep_data.iterrows():\n",
    "    temp_df = mandi_data[(mandi_data['APMC']==row.APMC) & (mandi_data['commodity']==row.commodity)]\n",
    "    final_df = pd.concat([temp_df,final_df])\n",
    "final_df.reset_index(drop=True,inplace = True)    "
   ]
  },
  {
   "cell_type": "code",
   "execution_count": 49,
   "metadata": {},
   "outputs": [
    {
     "data": {
      "text/html": [
       "<div>\n",
       "<style scoped>\n",
       "    .dataframe tbody tr th:only-of-type {\n",
       "        vertical-align: middle;\n",
       "    }\n",
       "\n",
       "    .dataframe tbody tr th {\n",
       "        vertical-align: top;\n",
       "    }\n",
       "\n",
       "    .dataframe thead th {\n",
       "        text-align: right;\n",
       "    }\n",
       "</style>\n",
       "<table border=\"1\" class=\"dataframe\">\n",
       "  <thead>\n",
       "    <tr style=\"text-align: right;\">\n",
       "      <th></th>\n",
       "      <th>APMC</th>\n",
       "      <th>commodity</th>\n",
       "      <th>Year</th>\n",
       "      <th>Month</th>\n",
       "      <th>arrivals_in_qtl</th>\n",
       "      <th>min_price</th>\n",
       "      <th>max_price</th>\n",
       "      <th>modal_price</th>\n",
       "      <th>date</th>\n",
       "      <th>district_name</th>\n",
       "    </tr>\n",
       "  </thead>\n",
       "  <tbody>\n",
       "    <tr>\n",
       "      <th>0</th>\n",
       "      <td>Yeotmal</td>\n",
       "      <td>soybean</td>\n",
       "      <td>2015</td>\n",
       "      <td>April</td>\n",
       "      <td>12384</td>\n",
       "      <td>3311</td>\n",
       "      <td>3739</td>\n",
       "      <td>3527.0</td>\n",
       "      <td>2015-04-01</td>\n",
       "      <td>Yewatmal</td>\n",
       "    </tr>\n",
       "    <tr>\n",
       "      <th>1</th>\n",
       "      <td>Yeotmal</td>\n",
       "      <td>soybean</td>\n",
       "      <td>2016</td>\n",
       "      <td>April</td>\n",
       "      <td>20978</td>\n",
       "      <td>3661</td>\n",
       "      <td>4045</td>\n",
       "      <td>3857.0</td>\n",
       "      <td>2016-04-01</td>\n",
       "      <td>Yewatmal</td>\n",
       "    </tr>\n",
       "    <tr>\n",
       "      <th>2</th>\n",
       "      <td>Yeotmal</td>\n",
       "      <td>soybean</td>\n",
       "      <td>2015</td>\n",
       "      <td>August</td>\n",
       "      <td>5958</td>\n",
       "      <td>3029</td>\n",
       "      <td>3321</td>\n",
       "      <td>3240.0</td>\n",
       "      <td>2015-08-01</td>\n",
       "      <td>Yewatmal</td>\n",
       "    </tr>\n",
       "    <tr>\n",
       "      <th>3</th>\n",
       "      <td>Yeotmal</td>\n",
       "      <td>soybean</td>\n",
       "      <td>2016</td>\n",
       "      <td>August</td>\n",
       "      <td>3539</td>\n",
       "      <td>3089</td>\n",
       "      <td>3438</td>\n",
       "      <td>3282.0</td>\n",
       "      <td>2016-08-01</td>\n",
       "      <td>Yewatmal</td>\n",
       "    </tr>\n",
       "    <tr>\n",
       "      <th>4</th>\n",
       "      <td>Yeotmal</td>\n",
       "      <td>soybean</td>\n",
       "      <td>2014</td>\n",
       "      <td>December</td>\n",
       "      <td>18921</td>\n",
       "      <td>3014</td>\n",
       "      <td>3300</td>\n",
       "      <td>3163.0</td>\n",
       "      <td>2014-12-01</td>\n",
       "      <td>Yewatmal</td>\n",
       "    </tr>\n",
       "  </tbody>\n",
       "</table>\n",
       "</div>"
      ],
      "text/plain": [
       "      APMC commodity  Year     Month  arrivals_in_qtl  min_price  max_price  \\\n",
       "0  Yeotmal   soybean  2015     April            12384       3311       3739   \n",
       "1  Yeotmal   soybean  2016     April            20978       3661       4045   \n",
       "2  Yeotmal   soybean  2015    August             5958       3029       3321   \n",
       "3  Yeotmal   soybean  2016    August             3539       3089       3438   \n",
       "4  Yeotmal   soybean  2014  December            18921       3014       3300   \n",
       "\n",
       "   modal_price       date district_name  \n",
       "0       3527.0 2015-04-01      Yewatmal  \n",
       "1       3857.0 2016-04-01      Yewatmal  \n",
       "2       3240.0 2015-08-01      Yewatmal  \n",
       "3       3282.0 2016-08-01      Yewatmal  \n",
       "4       3163.0 2014-12-01      Yewatmal  "
      ]
     },
     "execution_count": 49,
     "metadata": {},
     "output_type": "execute_result"
    }
   ],
   "source": [
    "final_df.head()"
   ]
  },
  {
   "cell_type": "markdown",
   "metadata": {},
   "source": [
    "# Now, finally we have the desired dataset, with frequency value of 12 for every unique combination of Year,Commodity and APMC\n",
    "\n",
    "-  Finally, Exporting this dataset to be used while Analysis of Seasonality"
   ]
  },
  {
   "cell_type": "code",
   "execution_count": 51,
   "metadata": {},
   "outputs": [],
   "source": [
    "final_df.to_csv(\"Seasonality_Analysis_data.csv\",index=False)"
   ]
  }
 ],
 "metadata": {
  "kernelspec": {
   "display_name": "Python 3",
   "language": "python",
   "name": "python3"
  },
  "language_info": {
   "codemirror_mode": {
    "name": "ipython",
    "version": 3
   },
   "file_extension": ".py",
   "mimetype": "text/x-python",
   "name": "python",
   "nbconvert_exporter": "python",
   "pygments_lexer": "ipython3",
   "version": "3.6.6"
  }
 },
 "nbformat": 4,
 "nbformat_minor": 2
}
